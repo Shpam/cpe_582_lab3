{
 "cells": [
  {
   "cell_type": "code",
   "execution_count": 1,
   "metadata": {
    "collapsed": true
   },
   "outputs": [],
   "source": [
    "import cleanData as cd\n",
    "import nltk"
   ]
  },
  {
   "cell_type": "code",
   "execution_count": 2,
   "metadata": {
    "collapsed": true
   },
   "outputs": [],
   "source": [
    "import re\n",
    "import random\n",
    "from nltk.corpus import stopwords"
   ]
  },
  {
   "cell_type": "code",
   "execution_count": 3,
   "metadata": {
    "collapsed": true
   },
   "outputs": [],
   "source": [
    "canDict = cd.get_cleaned_data()"
   ]
  },
  {
   "cell_type": "code",
   "execution_count": 4,
   "metadata": {
    "collapsed": false
   },
   "outputs": [],
   "source": [
    "def clean_doc(doc):\n",
    "    doc = doc.replace('=C2=A0',' ')\n",
    "    doc = doc.replace('-=3D-=3D-', '')\n",
    "    doc = doc.replace('=E2=80=9C', '')\n",
    "    doc = doc.replace('=E2=80=9D', '')\n",
    "    doc = ''.join(x for x in doc if ord(x) < 128)\n",
    "    doc = doc.replace('=', '')\n",
    "    return doc\n",
    "    return [x.replace('\\n', '').lower() for x in doc.split(' ')]"
   ]
  },
  {
   "cell_type": "code",
   "execution_count": 5,
   "metadata": {
    "collapsed": false,
    "scrolled": true
   },
   "outputs": [
    {
     "name": "stdout",
     "output_type": "stream",
     "text": [
      "dict_keys(['Christie', 'Fiorina', 'Paul', 'Rubio', 'Bush', 'Santorum', 'Cruz', 'Carson', 'Trump', 'Sanders', 'Kasich', 'Clinton'])\n"
     ]
    }
   ],
   "source": [
    "print(canDict.keys())"
   ]
  },
  {
   "cell_type": "code",
   "execution_count": 6,
   "metadata": {
    "collapsed": false
   },
   "outputs": [],
   "source": [
    "money = re.compile(r'\\$(.*)')"
   ]
  },
  {
   "cell_type": "code",
   "execution_count": 7,
   "metadata": {
    "collapsed": false
   },
   "outputs": [],
   "source": [
    "donate_words = ['donate', 'contribute']\n",
    "def asks_for_donation(doc):\n",
    "    clean = clean_doc(doc)\n",
    "    if any(wd in clean for wd in donate_words):\n",
    "        return True\n",
    "    #if any('donate' in cl for cl in clean):\n",
    "    #    return True\n",
    "    for word in clean:\n",
    "        if money.match(word):\n",
    "            return True\n",
    "    return False"
   ]
  },
  {
   "cell_type": "code",
   "execution_count": 8,
   "metadata": {
    "collapsed": false
   },
   "outputs": [],
   "source": [
    "emails = [canDict[candidate] for candidate in canDict.keys()]\n",
    "subject_words_donate = list()\n",
    "subject_words_not = list()"
   ]
  },
  {
   "cell_type": "code",
   "execution_count": 9,
   "metadata": {
    "collapsed": false
   },
   "outputs": [],
   "source": [
    "for email in emails:\n",
    "    for e in email:\n",
    "        if asks_for_donation(e['body']):\n",
    "            subject_words_donate += e['Subject'].split()\n",
    "        else:\n",
    "            subject_words_not += e['Subject'].split()\n",
    "#subject_words_donate = [word for word in subject_words_donate \n",
    "#                        if word not in stopwords.words('english')]\n",
    "#subject_words_not = [word for word in subject_words_not \n",
    "#                        if word not in stopwords.words('english')]"
   ]
  },
  {
   "cell_type": "code",
   "execution_count": 10,
   "metadata": {
    "collapsed": false
   },
   "outputs": [],
   "source": [
    "freq_don = nltk.FreqDist(w.lower() for w in subject_words_donate)\n",
    "freq_non = nltk.FreqDist(w.lower() for w in subject_words_not)"
   ]
  },
  {
   "cell_type": "code",
   "execution_count": 33,
   "metadata": {
    "collapsed": true
   },
   "outputs": [],
   "source": [
    "def in_freq(line, boolean):\n",
    "    line = line.split()\n",
    "    most_common_don = freq_don.most_common(40)\n",
    "    most_common_non = freq_non.most_common(40)\n",
    "    if boolean:\n",
    "        mc = most_common_don\n",
    "    else:\n",
    "        mc = most_common_non\n",
    "        \n",
    "    mc = [word[0] for word in mc[10:]]\n",
    "    #print(mc)\n",
    "    count = 0\n",
    "    for word in line:\n",
    "        if word in mc:\n",
    "            count += 1\n",
    "    #print(count)\n",
    "    if count <= 1:\n",
    "        return 'low'\n",
    "    if count >= 3: \n",
    "        return 'high'\n",
    "    return 'med'"
   ]
  },
  {
   "cell_type": "code",
   "execution_count": 34,
   "metadata": {
    "collapsed": false
   },
   "outputs": [],
   "source": [
    "email_feats = []\n",
    "to_ap = ()\n",
    "for candidate in canDict.keys():\n",
    "    for email in canDict[candidate]:\n",
    "        #email_feats.append(asks_for_donation(email['body']))\n",
    "        feats = {}\n",
    "        feats['cand'] = candidate\n",
    "        feats['don_words'] = in_freq(email['Subject'], True)\n",
    "        feats['non_words'] = in_freq(email['Subject'], False)\n",
    "        to_ap = (feats, asks_for_donation(email['body']))\n",
    "        email_feats.append(to_ap)\n",
    "        #for email in emails:\n",
    "        #    print(email)\n",
    "        #    email_feats.append(asks_for_donation(email['body']))"
   ]
  },
  {
   "cell_type": "code",
   "execution_count": 35,
   "metadata": {
    "collapsed": true
   },
   "outputs": [],
   "source": [
    "random.shuffle(email_feats)"
   ]
  },
  {
   "cell_type": "code",
   "execution_count": 36,
   "metadata": {
    "collapsed": false
   },
   "outputs": [],
   "source": [
    "test_cutoff = int(len(email_feats) / 4)\n",
    "train, test = email_feats[0:test_cutoff * 3], email_feats[test_cutoff * 3:]\n",
    "classifier = nltk.NaiveBayesClassifier.train(train)"
   ]
  },
  {
   "cell_type": "code",
   "execution_count": 37,
   "metadata": {
    "collapsed": false
   },
   "outputs": [
    {
     "name": "stdout",
     "output_type": "stream",
     "text": [
      "Accuracy:  0.7625482625482626\n"
     ]
    }
   ],
   "source": [
    "print(\"Accuracy: \",nltk.classify.accuracy(classifier,test))"
   ]
  },
  {
   "cell_type": "code",
   "execution_count": null,
   "metadata": {
    "collapsed": true
   },
   "outputs": [],
   "source": [
    "#features:  subject unigrams, candidate, bigrams"
   ]
  }
 ],
 "metadata": {
  "kernelspec": {
   "display_name": "Python [Root]",
   "language": "python",
   "name": "Python [Root]"
  },
  "language_info": {
   "codemirror_mode": {
    "name": "ipython",
    "version": 3
   },
   "file_extension": ".py",
   "mimetype": "text/x-python",
   "name": "python",
   "nbconvert_exporter": "python",
   "pygments_lexer": "ipython3",
   "version": "3.5.2"
  }
 },
 "nbformat": 4,
 "nbformat_minor": 0
}
