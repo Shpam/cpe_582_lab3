{
 "cells": [
  {
   "cell_type": "code",
   "execution_count": 8,
   "metadata": {
    "collapsed": false
   },
   "outputs": [],
   "source": [
    "import nltk, re, math, random\n",
    "from bs4 import BeautifulSoup"
   ]
  },
  {
   "cell_type": "code",
   "execution_count": 10,
   "metadata": {
    "collapsed": false,
    "scrolled": true
   },
   "outputs": [],
   "source": [
    "from curses.ascii import isdigit\n",
    "from nltk.corpus import cmudict\n",
    "import numpy as np"
   ]
  },
  {
   "cell_type": "code",
   "execution_count": 5,
   "metadata": {
    "collapsed": true
   },
   "outputs": [],
   "source": [
    "# coding: utf-8\n",
    "\n",
    "### Possible Message Keys ###\n",
    "\n",
    "keys = ['X-GM-THRID', 'X-Gmail-Labels', 'Delivered-To', 'Received', 'X-Received', 'Return-Path', 'Received', \n",
    "'Received-SPF', 'Authentication-Results', 'DKIM-Signature', 'DomainKey-Signature', 'Received', 'Date', \n",
    "'From', 'Reply-To', 'To', 'Message-ID', 'Subject', 'MIME-Version', 'Content-Type', 'x-mid', 'x-job', \n",
    "'Feedback-ID', 'x-rpcampaign', 'x-orgId', 'List-Unsubscribe']\n",
    "\n",
    "\n",
    "### Imports ###\n",
    "\n",
    "import mailbox\n",
    "import os\n",
    "import re\n",
    "\n",
    "### Functions ###\n",
    "\n",
    "#Downloads the messages, stops recursing when it reaches html\n",
    "def showPayload(msg):\n",
    "    ret = \"\"\n",
    "    ignore = [\"<html\", \"<div\", \"<!DOCT\", \"<head\"]\n",
    "    stop = False\n",
    "    \n",
    "    payload = msg.get_payload()\n",
    "    global nones\n",
    "    \n",
    "    if payload is not None:              \n",
    "        if msg.is_multipart():\n",
    "            for subMsg in payload:\n",
    "                data, stop = showPayload(subMsg)\n",
    "                \n",
    "                if not stop:\n",
    "                    ret += data\n",
    "                else:\n",
    "                    break\n",
    "        else:\n",
    "            if any(x in payload for x in ignore): #if this is the start of html bullshit, just stop parsing the message\n",
    "                ret = \"\"\n",
    "                stop = True\n",
    "            return payload, stop\n",
    "    else:\n",
    "        nones += 1\n",
    "        \n",
    "    return ret, stop\n",
    "\n",
    "\n",
    "#Dict[candidate_name] -> list of email dicts with keys: Body, From, Subject, Date, Candidates party\n",
    "def get_cleaned_data():\n",
    "\n",
    "    directory = os.getcwd() + \"/Takeout/Mail\"\n",
    "    files = os.listdir(directory)\n",
    "\n",
    "    candidate_dict = {}\n",
    "\n",
    "    for candidate in files:\n",
    "        mbox = mailbox.mbox(directory + \"/\" + candidate)\n",
    "\n",
    "        candidate_name = candidate.split(\"-\")[1][:-5]\n",
    "        candidate_party = candidate.split(\"-\")[0]\n",
    "        messages = []\n",
    "\n",
    "        for message in mbox:\n",
    "            mini_dict = {}\n",
    "            body, _ = showPayload(message)\n",
    "\n",
    "            #This is where we add keys for the messages, so if some data is missing that you want add it here.\n",
    "            mini_dict[\"body\"] = body\n",
    "            mini_dict[\"From\"] = message[\"From\"]\n",
    "            mini_dict[\"Subject\"] = message[\"Subject\"]\n",
    "            mini_dict[\"Date\"] = message[\"Date\"]\n",
    "            mini_dict[\"Party\"] = candidate_party\n",
    "\n",
    "            messages.append(mini_dict)\n",
    "\n",
    "        candidate_dict[candidate_name] = messages\n",
    "    return candidate_dict\n"
   ]
  },
  {
   "cell_type": "markdown",
   "metadata": {},
   "source": [
    "## Sage's Stuff"
   ]
  },
  {
   "cell_type": "markdown",
   "metadata": {},
   "source": [
    "### Visualization Code"
   ]
  },
  {
   "cell_type": "code",
   "execution_count": 7,
   "metadata": {
    "collapsed": false
   },
   "outputs": [],
   "source": [
    "%matplotlib inline\n",
    "#matplotlib.use('Agg')\n",
    "\n",
    "import pandas as pd\n",
    "import matplotlib.pyplot as plt\n",
    "import numpy as np\n",
    "from collections import defaultdict\n",
    "\n",
    "\n",
    "data = get_cleaned_data()\n",
    "\n",
    "candidates = list(data.keys())\n",
    "#candidates = [\"Trump\", \"Clinton\", \"Sanders\"]\n",
    "\n",
    "\n",
    "weekdays = [\"Mon\", \"Tue\", \"Wed\", \"Thu\", \"Fri\", \"Sat\", \"Sun\"]\n",
    "month_to_num = {\"Jan\" : 1, \"Feb\" : 2, \"Mar\" : 3, \"Apr\" : 4, \"May\" : 5, \"Jun\" : 6, \"Jul\" : 7, \n",
    "               \"Aug\" : 8, \"Sep\" : 9, \"Oct\" : 10, \"Nov\" : 11, \"Dec\" : 12}\n",
    "arr = np.ndarray(shape=(len(candidates),len(weekdays)), dtype=int, order='F')\n",
    "\n",
    "\n",
    "# Takes a dictionary, and a set of keys that you want the dictionary values in order of\n",
    "# {\"A\" : 100, \"C\" : 50, \"B\" : 75}, [\"A\",\"B\",\"C\"] -> [100, 75, 50]\n",
    "# Assumes values are integers and inserts \n",
    "def dict_to_ordered_list(my_dict, order):\n",
    "    lst = []\n",
    "    for key in order:\n",
    "        # Need this If-statement since not all candidates email every day of \n",
    "        # the week and defaultdicts are a pain in the ass to initialize\n",
    "        if key in my_dict:\n",
    "            lst.append(my_dict[key])\n",
    "        else:\n",
    "            lst.append(0)\n",
    "\n",
    "    return lst\n",
    "\n",
    "# Gets counts for each day of the week\n",
    "def weekday_histogram(data, candidate):\n",
    "    candidate_data = data[candidate]\n",
    "    weekday_count = defaultdict(int) #defaultdict so all values are initialized for incrementation\n",
    "        \n",
    "    for email in candidate_data:\n",
    "        day = re.match(\"(\\w+),\", email[\"Date\"]).group(1) #strip out the weekday from form Day, ...\n",
    "        weekday_count[day] += 1\n",
    "        \n",
    "        \n",
    "    return dict(weekday_count) #convert to normal dict from defaultdict\n",
    "\n",
    "#gets the counts for each day of the month cummulatively so the data isn't sparse\n",
    "def month_histogram(data):\n",
    "    month_day_data = defaultdict(int) #defaultdict so all values are initialized for incrementation\n",
    "    \n",
    "    for candidate in candidates:\n",
    "        candidate_data = data[candidate]\n",
    "\n",
    "        for email in candidate_data:\n",
    "            print(email[\"Date\"])\n",
    "            day = re.search(r\", (\\d+) (\\w+)\", email[\"Date\"])#strip out the weekday from form Day, ...\n",
    "            print(\"2016-\",month_to_num[day.group(2)], \"-\", day.group(1), sep=\"\")\n",
    "            \n",
    "            month_day_data\n",
    "            #weekday_count[day] += 1\n",
    "        \n",
    "        \n",
    "    return dict(month_day_data) #convert to normal dict from defaultdict"
   ]
  },
  {
   "cell_type": "markdown",
   "metadata": {},
   "source": [
    "### Weekday Frequency"
   ]
  },
  {
   "cell_type": "code",
   "execution_count": 8,
   "metadata": {
    "collapsed": false,
    "scrolled": true
   },
   "outputs": [
    {
     "data": {
      "image/png": "[encoded data removed]",
      "text/plain": [
       "<matplotlib.figure.Figure at 0x2605c1f37b8>"
      ]
     },
     "metadata": {},
     "output_type": "display_data"
    },
    {
     "data": {
      "image/png": "[encoded data removed]",
      "text/plain": [
       "<matplotlib.figure.Figure at 0x2605c5d4a90>"
      ]
     },
     "metadata": {},
     "output_type": "display_data"
    },
    {
     "data": {
      "image/png": "[encoded data removed]",
      "text/plain": [
       "<matplotlib.figure.Figure at 0x2605c6052b0>"
      ]
     },
     "metadata": {},
     "output_type": "display_data"
    },
    {
     "data": {
      "image/png": "[encoded data removed]",
      "text/plain": [
       "<matplotlib.figure.Figure at 0x2605e624f28>"
      ]
     },
     "metadata": {},
     "output_type": "display_data"
    },
    {
     "data": {
      "image/png": "[encoded data removed]",
      "text/plain": [
       "<matplotlib.figure.Figure at 0x2605e6e4f60>"
      ]
     },
     "metadata": {},
     "output_type": "display_data"
    },
    {
     "data": {
      "image/png": "[encoded data removed]",
      "text/plain": [
       "<matplotlib.figure.Figure at 0x2605e74a518>"
      ]
     },
     "metadata": {},
     "output_type": "display_data"
    },
    {
     "data": {
      "image/png": "[encoded data removed]",
      "text/plain": [
       "<matplotlib.figure.Figure at 0x2605e7ba2b0>"
      ]
     },
     "metadata": {},
     "output_type": "display_data"
    },
    {
     "data": {
      "image/png": "[encoded data removed]",
      "text/plain": [
       "<matplotlib.figure.Figure at 0x2605e773e10>"
      ]
     },
     "metadata": {},
     "output_type": "display_data"
    },
    {
     "data": {
      "image/png": "[encoded data removed]",
      "text/plain": [
       "<matplotlib.figure.Figure at 0x2605e6a3a58>"
      ]
     },
     "metadata": {},
     "output_type": "display_data"
    },
    {
     "data": {
      "image/png": "[encoded data removed]",
      "text/plain": [
       "<matplotlib.figure.Figure at 0x2605c58ad68>"
      ]
     },
     "metadata": {},
     "output_type": "display_data"
    },
    {
     "data": {
      "image/png": "[encoded data removed]",
      "text/plain": [
       "<matplotlib.figure.Figure at 0x2605c656828>"
      ]
     },
     "metadata": {},
     "output_type": "display_data"
    },
    {
     "data": {
      "image/png": "[encoded data removed]",
      "text/plain": [
       "<matplotlib.figure.Figure at 0x2605e5b7a90>"
      ]
     },
     "metadata": {},
     "output_type": "display_data"
    }
   ],
   "source": [
    "temp_candidate_data = []\n",
    "\n",
    "for idx, candidate in enumerate(candidates):\n",
    "    day_of_the_week_data = weekday_histogram(data, candidate)\n",
    "    temp_candidate_data.append(dict_to_ordered_list(day_of_the_week_data, weekdays))\n",
    "    plot_me = pd.Series(day_of_the_week_data, index=weekdays)\n",
    "    plot_me.ix(weekdays)\n",
    "\n",
    "    # Plot individual graphs\n",
    "    plot_me.plot(x='Weekday', y='y', title=candidate).set_ylim(0,110)\n",
    "    #add figure and plot it\n",
    "    plt.show()"
   ]
  },
  {
   "cell_type": "code",
   "execution_count": 9,
   "metadata": {
    "collapsed": false
   },
   "outputs": [
    {
     "data": {
      "image/png": "[encoded data removed]",
      "text/plain": [
       "<matplotlib.figure.Figure at 0x2605aada240>"
      ]
     },
     "metadata": {},
     "output_type": "display_data"
    }
   ],
   "source": [
    "#multicandidate graph\n",
    "arr = list(zip(*temp_candidate_data)) #need to re-orient the arrays\n",
    "df = pd.DataFrame(arr, index=weekdays, columns=candidates)\n",
    "df.plot(figsize=(10,10)); plt.show()"
   ]
  },
  {
   "cell_type": "markdown",
   "metadata": {},
   "source": [
    "### Mikey's Stuff"
   ]
  },
  {
   "cell_type": "code",
   "execution_count": 25,
   "metadata": {
    "collapsed": false
   },
   "outputs": [],
   "source": [
    "d = cmudict.dict()\n",
    "\n",
    "def url_count(bodies):\n",
    "  # COUNT THE NUMBER OF URLS IN THE BODY OF THE EMAILS\n",
    "  urls = re.findall(r'(http|ftp|https)://([\\w_-]+(?:(?:\\.[\\w_-]+)+))([\\w.,@?^=%&:/~+#-]*[\\w@?^=%&/~+#-])?', ' '.join(bodies))\n",
    "  return len(urls)\n",
    "\n",
    "def clean_text(text):\n",
    "  # REMOVES WORDS WITH DIGITS IN THEM\n",
    "  clean = re.sub(r'\\w*\\d\\w*', '', text).strip()\n",
    "  clean = re.sub(r'(http|ftp|https)://([\\w_-]+(?:(?:\\.[\\w_-]+)+))([\\w.,@?^=%&:/~+#-]*[\\w@?^=%&/~+#-])?', '', clean)\n",
    "\n",
    "  #clean = re.sub('<[^>]*>', '', clean)\n",
    "  soup = BeautifulSoup(clean, 'lxml')\n",
    "  clean = soup.get_text()\n",
    "\n",
    "  return clean\n",
    "\n",
    "def nsyl(word):\n",
    "  if word.lower() in d:\n",
    "    return max([len(list(y for y in x if y[-1].isdigit())) for x in d[word.lower()]])\n",
    "  else:\n",
    "    return 0\n",
    "\n",
    "def extract_features(body, raw=False):\n",
    "  feat = {}\n",
    "  sentence_tokenizer = nltk.data.load('tokenizers/punkt/english.pickle')\n",
    "  word_tokenizer = nltk.tokenize.RegexpTokenizer(r'\\w+')\n",
    "  clean_body = clean_text(body)\n",
    "\n",
    "  tokens = nltk.word_tokenize(clean_body.lower())\n",
    "  words = word_tokenizer.tokenize(clean_body.lower())\n",
    "  sentences = sentence_tokenizer.tokenize(clean_body)\n",
    "  vocab = set(words)\n",
    "  words_per_sentence = np.array([len(word_tokenizer.tokenize(s)) for s in sentences])\n",
    "  syllables_per_word = sum([nsyl(w) for w in words]) / len(words)\n",
    "\n",
    "  urls = re.findall(r'(http|ftp|https)://([\\w_-]+(?:(?:\\.[\\w_-]+)+))([\\w.,@?^=%&:/~+#-]*[\\w@?^=%&/~+#-])?', body)\n",
    "\n",
    "  feat['url_count'] = len(urls)\n",
    "  feat['avg_words_sent'] = int(math.floor(words_per_sentence.mean()/5))*5\n",
    "  feat['sent_len_variation'] = int(math.floor(words_per_sentence.std()/5))*5\n",
    "  feat['lex_diversity'] = round( len(vocab) / float(len(words)), 4)\n",
    "  feat['avg_sylla_word'] = round(syllables_per_word, 4) # Maybe 2 or 3\n",
    "  feat['reading_score'] = int( math.floor( (206.835 - (1.015 * words_per_sentence.mean()) - (84.6 * syllables_per_word))/5 ))*5\n",
    "\n",
    "  if raw:\n",
    "    return (206.835 - (1.015 * words_per_sentence.mean()) - (84.6 * syllables_per_word))\n",
    "\n",
    "  return feat\n",
    "\n",
    "def classify_candidates(candidate_bodies):\n",
    "  ndx = len(candidate_bodies)//3\n",
    "  random.shuffle(candidate_bodies)\n",
    "\n",
    "  feat_label = [(extract_features(tup[0]), tup[1]) for tup in candidate_bodies]\n",
    "\n",
    "  test_set, train_set = feat_label[:ndx], feat_label[ndx:]\n",
    "\n",
    "  classifier = nltk.NaiveBayesClassifier.train(train_set)\n",
    "  #print('ACCURACY: %f'%nltk.classify.accuracy(classifier, test_set))\n",
    "  return nltk.classify.accuracy(classifier, test_set)"
   ]
  },
  {
   "cell_type": "code",
   "execution_count": 32,
   "metadata": {
    "collapsed": false
   },
   "outputs": [],
   "source": [
    "clean_data = get_cleaned_data()\n",
    "candidates = list(clean_data.keys())\n",
    "#print(candidates)\n",
    "#print('')\n",
    "\n",
    "candidate_bodies = []\n",
    "candidate_url_ratios = []\n",
    "candidate_vocab_depth = []\n",
    "candidate_read_ease = []\n",
    "candidate_froms = []\n",
    "for candidate in candidates:\n",
    "    emails = clean_data[candidate]\n",
    "    #print(candidate)\n",
    "    #print('TOTAL NUMBER OF EMAILS: %d'%len(emails))\n",
    "\n",
    "    subjects = []\n",
    "    bodies = []\n",
    "    froms = []\n",
    "    for email in emails:\n",
    "        subjects.append(email['Subject'])\n",
    "        bodies.append(email['body'])\n",
    "        froms.append(email['From'])\n",
    "\n",
    "        if len(email['body']) > 0:\n",
    "            candidate_bodies.append((email['body'],candidate))\n",
    "\n",
    "\n",
    "    # NUMBER OF URLS FOUND IN EMAILS\n",
    "    num_urls = url_count(bodies)\n",
    "    #print('URL COUNT: %d'%num_urls)\n",
    "    #print('URL TO EMAIL RATIO: %f'%(num_urls/len(emails)))\n",
    "    candidate_url_ratios.append((candidate, num_urls/len(emails)))\n",
    "\n",
    "    # NUMBER OF UNIQUE FORWARDING EMAIL ADDRESSES\n",
    "    #print('UNIQUE FROMS:')\n",
    "    #print(set(froms))\n",
    "    #print('UNIQUE FROMS: %d'%(len(set(froms))))\n",
    "    candidate_froms.append((candidate,len(set(froms))))\n",
    "\n",
    "    score = extract_features(' '.join(bodies), True)\n",
    "    candidate_read_ease.append((candidate, score))\n",
    "\n",
    "\n",
    "    # MAYBE CHANGE THE ORDERING, TOKENIZE THE WORDS AND THEN REMOVE THE WEIRD INSTANCES\n",
    "    subjects = clean_text(' '.join(subjects))\n",
    "    bodies = clean_text(' '.join(bodies))\n",
    "\n",
    "    subject_tokens = nltk.tokenize.RegexpTokenizer(r'\\w+').tokenize(subjects)\n",
    "    subject_words = [word.lower() for word in subject_tokens if word not in nltk.corpus.stopwords.words('english')]\n",
    "    subject_freq = nltk.FreqDist(subject_words)\n",
    "    #print('SUBJECT FREQ WORDS:')\n",
    "    #print(subject_freq.most_common(50))\n",
    "\n",
    "\n",
    "    body_tokens = nltk.tokenize.RegexpTokenizer(r'\\w+').tokenize(bodies)\n",
    "    body_words = [word.lower() for word in body_tokens if word not in nltk.corpus.stopwords.words('english')]\n",
    "    body_freq = nltk.FreqDist(body_words)\n",
    "    #print('BODY FREQ WORDS:')\n",
    "    #print(body_freq.most_common(50))\n",
    "\n",
    "\n",
    "    #print('UNIQUE WORDS: %d'%len(set(body_words)))\n",
    "    #print('TOTAL WORDS: %d'%len(body_words))\n",
    "    #print('VOCABULARY DEPTH: %f'%( math.log10(len(set(body_words)))/math.log10(len(body_words)) ))\n",
    "    candidate_vocab_depth.append((candidate, math.log10(len(set(body_words)))/math.log10(len(body_words))))"
   ]
  },
  {
   "cell_type": "code",
   "execution_count": 12,
   "metadata": {
    "collapsed": false
   },
   "outputs": [
    {
     "name": "stdout",
     "output_type": "stream",
     "text": [
      "UNIQUE FROMS:\n",
      " [('Carson', 2), ('Fiorina', 5), ('Paul', 7), ('Bush', 11), ('Trump', 13), ('Clinton', 14), ('Santorum', 14), ('Sanders', 16), ('Kasich', 19), ('Rubio', 33), ('Cruz', 33), ('Christie', 41)]\n"
     ]
    }
   ],
   "source": [
    "print('UNIQUE FROMS:\\n %s' % sorted(candidate_froms, key=lambda x: x[1]))"
   ]
  },
  {
   "cell_type": "code",
   "execution_count": 13,
   "metadata": {
    "collapsed": false
   },
   "outputs": [
    {
     "name": "stdout",
     "output_type": "stream",
     "text": [
      "URL RATIOS:\n",
      " [('Bush', 1.9827586206896552), ('Kasich', 2.01980198019802), ('Clinton', 2.55), ('Rubio', 2.7916666666666665), ('Trump', 2.8666666666666667), ('Paul', 3.0), ('Sanders', 3.5342960288808665), ('Santorum', 3.6129032258064515), ('Fiorina', 4.361702127659575), ('Cruz', 4.391666666666667), ('Christie', 5.17037037037037), ('Carson', 9.0)]\n"
     ]
    }
   ],
   "source": [
    "print('URL RATIOS:\\n %s' % sorted(candidate_url_ratios, key=lambda x: x[1]))"
   ]
  },
  {
   "cell_type": "code",
   "execution_count": 15,
   "metadata": {
    "collapsed": false
   },
   "outputs": [
    {
     "name": "stdout",
     "output_type": "stream",
     "text": [
      "VOCAB DEPTH:\n",
      " [('Christie', 0.7167128269451892), ('Sanders', 0.7184732546232202), ('Rubio', 0.7345965826758764), ('Cruz', 0.7433054424297223), ('Trump', 0.7443400098404391), ('Paul', 0.7503217824682225), ('Clinton', 0.758535850389818), ('Kasich', 0.7772517766069418), ('Santorum', 0.7801292186007066), ('Carson', 0.8039743464943653), ('Fiorina', 0.8304015815074304), ('Bush', 0.836036368333285)]\n"
     ]
    }
   ],
   "source": [
    "print('VOCAB DEPTH:\\n %s' % sorted(candidate_vocab_depth, key=lambda x: x[1]))"
   ]
  },
  {
   "cell_type": "code",
   "execution_count": 16,
   "metadata": {
    "collapsed": false
   },
   "outputs": [
    {
     "name": "stdout",
     "output_type": "stream",
     "text": [
      "READING EASE SCORE:\n",
      " [('Carson', 82.543996213292644), ('Bush', 78.291370235587081), ('Fiorina', 69.43018352622191), ('Clinton', 65.226530855013621), ('Christie', 63.318769359444971), ('Rubio', 63.23277311426952), ('Santorum', 58.917869069487537), ('Trump', 58.782123296222494), ('Paul', 57.77066800076237), ('Cruz', 57.656644217440686), ('Sanders', 56.547949945639004), ('Kasich', 55.806307312933427)]\n"
     ]
    }
   ],
   "source": [
    "print('READING EASE SCORE:\\n %s' % sorted(candidate_read_ease, key=lambda x: x[1], reverse=True))"
   ]
  },
  {
   "cell_type": "code",
   "execution_count": 33,
   "metadata": {
    "collapsed": false
   },
   "outputs": [
    {
     "name": "stdout",
     "output_type": "stream",
     "text": [
      "AVERAGE ACCURACY: 0.750146\n",
      "\n"
     ]
    }
   ],
   "source": [
    "acc_sum = 0.0\n",
    "for i in range(5):\n",
    "    acc_sum += classify_candidates(candidate_bodies)\n",
    "print('AVERAGE ACCURACY: %f'%(acc_sum/5))\n",
    "print('')"
   ]
  },
  {
   "cell_type": "code",
   "execution_count": null,
   "metadata": {
    "collapsed": false
   },
   "outputs": [],
   "source": []
  },
  {
   "cell_type": "markdown",
   "metadata": {},
   "source": [
    "## Sam's Stuff"
   ]
  },
  {
   "cell_type": "code",
   "execution_count": 21,
   "metadata": {
    "collapsed": false
   },
   "outputs": [],
   "source": [
    "canDict = get_cleaned_data()"
   ]
  },
  {
   "cell_type": "code",
   "execution_count": 22,
   "metadata": {
    "collapsed": true
   },
   "outputs": [],
   "source": [
    "def clean_doc(doc):\n",
    "    doc = doc.replace('=C2=A0',' ')\n",
    "    doc = doc.replace('-=3D-=3D-', '')\n",
    "    doc = doc.replace('=E2=80=9C', '')\n",
    "    doc = doc.replace('=E2=80=9D', '')\n",
    "    doc = ''.join(x for x in doc if ord(x) < 128)\n",
    "    doc = doc.replace('=', '')\n",
    "    return doc\n",
    "    return [x.replace('\\n', '').lower() for x in doc.split(' ')]"
   ]
  },
  {
   "cell_type": "code",
   "execution_count": 23,
   "metadata": {
    "collapsed": true
   },
   "outputs": [],
   "source": [
    "money = re.compile(r'\\$(.*)')"
   ]
  },
  {
   "cell_type": "code",
   "execution_count": 24,
   "metadata": {
    "collapsed": true
   },
   "outputs": [],
   "source": [
    "donate_words = ['donate', 'contribute']\n",
    "def asks_for_donation(doc):\n",
    "    clean = clean_doc(doc)\n",
    "    if any(wd in clean for wd in donate_words):\n",
    "        return True\n",
    "    #if any('donate' in cl for cl in clean):\n",
    "    #    return True\n",
    "    for word in clean:\n",
    "        if money.match(word):\n",
    "            return True\n",
    "    return False"
   ]
  },
  {
   "cell_type": "code",
   "execution_count": 25,
   "metadata": {
    "collapsed": true
   },
   "outputs": [],
   "source": [
    "emails = [canDict[candidate] for candidate in canDict.keys()]\n",
    "subject_words_donate = list()\n",
    "subject_words_not = list()"
   ]
  },
  {
   "cell_type": "code",
   "execution_count": 26,
   "metadata": {
    "collapsed": true
   },
   "outputs": [],
   "source": [
    "for email in emails:\n",
    "    for e in email:\n",
    "        if asks_for_donation(e['body']):\n",
    "            subject_words_donate += e['Subject'].split()\n",
    "        else:\n",
    "            subject_words_not += e['Subject'].split()"
   ]
  },
  {
   "cell_type": "code",
   "execution_count": 27,
   "metadata": {
    "collapsed": true
   },
   "outputs": [],
   "source": [
    "freq_don = nltk.FreqDist(w.lower() for w in subject_words_donate)\n",
    "freq_non = nltk.FreqDist(w.lower() for w in subject_words_not)"
   ]
  },
  {
   "cell_type": "code",
   "execution_count": 28,
   "metadata": {
    "collapsed": true
   },
   "outputs": [],
   "source": [
    "def in_freq(line, boolean):\n",
    "    line = line.split()\n",
    "    most_common_don = freq_don.most_common(40)\n",
    "    most_common_non = freq_non.most_common(40)\n",
    "    if boolean:\n",
    "        mc = most_common_don\n",
    "    else:\n",
    "        mc = most_common_non\n",
    "        \n",
    "    mc = [word[0] for word in mc[10:]]\n",
    "    #print(mc)\n",
    "    count = 0\n",
    "    for word in line:\n",
    "        if word in mc:\n",
    "            count += 1\n",
    "    #print(count)\n",
    "    if count <= 1:\n",
    "        return 'low'\n",
    "    if count >= 3: \n",
    "        return 'high'\n",
    "    return 'med'"
   ]
  },
  {
   "cell_type": "code",
   "execution_count": 29,
   "metadata": {
    "collapsed": true
   },
   "outputs": [],
   "source": [
    "email_feats = []\n",
    "to_ap = ()\n",
    "for candidate in canDict.keys():\n",
    "    for email in canDict[candidate]:\n",
    "        #email_feats.append(asks_for_donation(email['body']))\n",
    "        feats = {}\n",
    "        feats['cand'] = candidate\n",
    "        feats['don_words'] = in_freq(email['Subject'], True)\n",
    "        feats['non_words'] = in_freq(email['Subject'], False)\n",
    "        to_ap = (feats, asks_for_donation(email['body']))\n",
    "        email_feats.append(to_ap)"
   ]
  },
  {
   "cell_type": "code",
   "execution_count": 30,
   "metadata": {
    "collapsed": true
   },
   "outputs": [],
   "source": [
    "random.shuffle(email_feats)"
   ]
  },
  {
   "cell_type": "code",
   "execution_count": 31,
   "metadata": {
    "collapsed": true
   },
   "outputs": [],
   "source": [
    "test_cutoff = int(len(email_feats) / 4)\n",
    "train, test = email_feats[0:test_cutoff * 3], email_feats[test_cutoff * 3:]\n",
    "classifier = nltk.NaiveBayesClassifier.train(train)"
   ]
  },
  {
   "cell_type": "code",
   "execution_count": 32,
   "metadata": {
    "collapsed": false
   },
   "outputs": [
    {
     "name": "stdout",
     "output_type": "stream",
     "text": [
      "Accuracy:  0.7857142857142857\n"
     ]
    }
   ],
   "source": [
    "print(\"Accuracy: \",nltk.classify.accuracy(classifier,test))"
   ]
  },
  {
   "cell_type": "code",
   "execution_count": null,
   "metadata": {
    "collapsed": true
   },
   "outputs": [],
   "source": []
  }
 ],
 "metadata": {
  "anaconda-cloud": {},
  "kernelspec": {
   "display_name": "Python [Root]",
   "language": "python",
   "name": "Python [Root]"
  },
  "language_info": {
   "codemirror_mode": {
    "name": "ipython",
    "version": 3
   },
   "file_extension": ".py",
   "mimetype": "text/x-python",
   "name": "python",
   "nbconvert_exporter": "python",
   "pygments_lexer": "ipython3",
   "version": "3.5.2"
  }
 },
 "nbformat": 4,
 "nbformat_minor": 0
}
